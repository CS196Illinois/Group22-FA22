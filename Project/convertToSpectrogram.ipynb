{
  "nbformat": 4,
  "nbformat_minor": 0,
  "metadata": {
    "colab": {
      "provenance": []
    },
    "kernelspec": {
      "name": "python3",
      "display_name": "Python 3"
    },
    "language_info": {
      "name": "python"
    }
  },
  "cells": [
    {
      "cell_type": "code",
      "execution_count": null,
      "metadata": {
        "colab": {
          "base_uri": "https://localhost:8080/"
        },
        "id": "CI184G8tYu3C",
        "outputId": "e4be9e83-efe8-4b44-e24c-7e468213792a"
      },
      "outputs": [
        {
          "output_type": "stream",
          "name": "stdout",
          "text": [
            "Mounted at /content/drive\n"
          ]
        }
      ],
      "source": [
        "#if working directly on your machine, then don't need to import from drive\n",
        "from google.colab import drive\n",
        "drive.mount('/content/drive')"
      ]
    },
    {
      "cell_type": "code",
      "source": [
        "import librosa\n",
        "import librosa.display\n",
        "import matplotlib.pyplot as plt\n",
        "import numpy as np\n",
        "import re\n",
        "import os\n",
        "\n",
        "dicts = {'01' : 'neutral', '02' : 'calm', '03' : 'happy', '04' : 'sad', '05' : 'angry', '06' : 'fearful', '07' : 'disgust', '08' : 'surprised'}\n",
        "\n",
        "path_main = '/content/drive/My Drive/CS124H/Audio_Song_Actors_01-24'\n",
        "#replace with whatever path your folders are saved one \n",
        "#and replace folder name\n",
        "#if working locally, might be able to just put folder name\n",
        "#and not the path as long as the folder is in the same directory\n",
        "#as the notebook/file you're running\n",
        "\n",
        "folders_main = os.listdir(path_main)\n",
        "\n",
        "counter = 0\n",
        "for folders in folders_main : \n",
        "    path_in = '/content/drive/My Drive/CS124H/Audio_Song_Actors_01-24/{0}'.format(folders)\n",
        "    files_sub = os.listdir(path_in)\n",
        "    for file in files_sub :\n",
        "        numbers = re.findall('\\d+', file)\n",
        "        emotion = dicts[numbers[2]]\n",
        "        print(numbers[6], emotion)\n",
        "        path_save = '/content/drive/My Drive/CS124H/sorted_data2/{0}/{1}.jpeg'.format(emotion, file)\n",
        "        path_load = '{0}/{1}'.format(path_in, file)\n",
        "        y, sr = librosa.load(path_load)\n",
        "        yt, _ = librosa.effects.trim(y)\n",
        "        y = yt\n",
        "        mel_spect = librosa.feature.melspectrogram(y = y, sr = sr, n_fft = 1024, hop_length = 100)\n",
        "        mel_spect = librosa.power_to_db(mel_spect, ref = np.max)\n",
        "        librosa.display.specshow(mel_spect, y_axis = 'mel', fmax = 20000, x_axis = 'time')\n",
        "        plt.savefig(path_save)\n"
      ],
      "metadata": {
        "id": "gQN_ddpmY64w"
      },
      "execution_count": null,
      "outputs": []
    }
  ]
}